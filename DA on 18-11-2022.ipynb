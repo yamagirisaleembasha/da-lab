{
 "cells": [
  {
   "cell_type": "code",
   "execution_count": 76,
   "id": "6c125711",
   "metadata": {},
   "outputs": [],
   "source": [
    "import numpy as np"
   ]
  },
  {
   "cell_type": "code",
   "execution_count": 77,
   "id": "b2784960",
   "metadata": {},
   "outputs": [],
   "source": [
    "wines=np.genfromtxt('Z:/y20cs190_saleembasha/3 rd year/sem 5/CS 352 DA lab/winequality-red.csv',delimiter=';',skip_header=1)"
   ]
  },
  {
   "cell_type": "code",
   "execution_count": 78,
   "id": "42831ef8",
   "metadata": {},
   "outputs": [],
   "source": [
    "wines.dtype='float'"
   ]
  },
  {
   "cell_type": "code",
   "execution_count": 79,
   "id": "cd6d21cf",
   "metadata": {},
   "outputs": [
    {
     "data": {
      "text/plain": [
       "array([[ 7.4  ,  0.7  ,  0.   , ...,  0.56 ,  9.4  ,  5.   ],\n",
       "       [ 7.8  ,  0.88 ,  0.   , ...,  0.68 ,  9.8  ,  5.   ],\n",
       "       [ 7.8  ,  0.76 ,  0.04 , ...,  0.65 ,  9.8  ,  5.   ],\n",
       "       ...,\n",
       "       [ 6.3  ,  0.51 ,  0.13 , ...,  0.75 , 11.   ,  6.   ],\n",
       "       [ 5.9  ,  0.645,  0.12 , ...,  0.71 , 10.2  ,  5.   ],\n",
       "       [ 6.   ,  0.31 ,  0.47 , ...,  0.66 , 11.   ,  6.   ]])"
      ]
     },
     "execution_count": 79,
     "metadata": {},
     "output_type": "execute_result"
    }
   ],
   "source": [
    "wines"
   ]
  },
  {
   "cell_type": "code",
   "execution_count": 80,
   "id": "41c83d59",
   "metadata": {},
   "outputs": [
    {
     "data": {
      "text/plain": [
       "(1599, 12)"
      ]
     },
     "execution_count": 80,
     "metadata": {},
     "output_type": "execute_result"
    }
   ],
   "source": [
    "wines.shape"
   ]
  },
  {
   "cell_type": "code",
   "execution_count": 81,
   "id": "388ec78f",
   "metadata": {},
   "outputs": [
    {
     "data": {
      "text/plain": [
       "2.3"
      ]
     },
     "execution_count": 81,
     "metadata": {},
     "output_type": "execute_result"
    }
   ],
   "source": [
    "wines[(2,3)]"
   ]
  },
  {
   "cell_type": "code",
   "execution_count": 82,
   "id": "f23cc61b",
   "metadata": {},
   "outputs": [
    {
     "name": "stdout",
     "output_type": "stream",
     "text": [
      "1 element in fourth column is: 1.9\n",
      "2 element in fourth column is: 2.6\n",
      "3 element in fourth column is: 2.3\n"
     ]
    }
   ],
   "source": [
    "for i in range(0,3):\n",
    "    print(i+1,'element in fourth column is:',wines[(i,3)])"
   ]
  },
  {
   "cell_type": "code",
   "execution_count": 83,
   "id": "304ce78e",
   "metadata": {},
   "outputs": [
    {
     "data": {
      "text/plain": [
       "array([[1.9],\n",
       "       [2.6],\n",
       "       [2.3]])"
      ]
     },
     "execution_count": 83,
     "metadata": {},
     "output_type": "execute_result"
    }
   ],
   "source": [
    "wines[:3,[3]]"
   ]
  },
  {
   "cell_type": "code",
   "execution_count": 84,
   "id": "476c6656",
   "metadata": {},
   "outputs": [
    {
     "data": {
      "text/plain": [
       "array([0.  , 0.  , 0.04, ..., 0.13, 0.12, 0.47])"
      ]
     },
     "execution_count": 84,
     "metadata": {},
     "output_type": "execute_result"
    }
   ],
   "source": [
    "wines[0:,2]"
   ]
  },
  {
   "cell_type": "code",
   "execution_count": 85,
   "id": "69360433",
   "metadata": {},
   "outputs": [
    {
     "data": {
      "text/plain": [
       "array([11.2  ,  0.28 ,  0.56 ,  1.9  ,  0.075, 17.   , 60.   ,  0.998,\n",
       "        3.16 ,  0.58 ,  9.8  ,  6.   ])"
      ]
     },
     "execution_count": 85,
     "metadata": {},
     "output_type": "execute_result"
    }
   ],
   "source": [
    "wines[3]"
   ]
  },
  {
   "cell_type": "code",
   "execution_count": 86,
   "id": "67bc4c52",
   "metadata": {},
   "outputs": [
    {
     "name": "stdout",
     "output_type": "stream",
     "text": [
      "value of 2nd row and 6th column element before Assign value 10 to it is:\n",
      "25.0\n",
      "value of 2nd row and 6th column element after Assign value 10 to it is:\n",
      "10.0\n"
     ]
    }
   ],
   "source": [
    "print('value of 2nd row and 6th column element before Assign value 10 to it is:')\n",
    "print(wines[1,5])\n",
    "wines[1,5]=10\n",
    "print('value of 2nd row and 6th column element after Assign value 10 to it is:')\n",
    "print(wines[1,5])"
   ]
  },
  {
   "cell_type": "code",
   "execution_count": 87,
   "id": "d1d064dc",
   "metadata": {},
   "outputs": [
    {
     "name": "stdout",
     "output_type": "stream",
     "text": [
      "slice_new array before assigning 666 to all elements of slice_new:\n",
      "[0.56 0.68 0.65 ... 0.75 0.71 0.66]\n",
      "slice_new array after assigning 666 to all elements of slice_new:\n",
      "[666. 666. 666. ... 666. 666. 666.]\n"
     ]
    }
   ],
   "source": [
    "slice_new=wines[0:,9]\n",
    "print('slice_new array before assigning 666 to all elements of slice_new:')\n",
    "print(slice_new)\n",
    "slice_new[0:]=666\n",
    "print('slice_new array after assigning 666 to all elements of slice_new:')\n",
    "print(slice_new)"
   ]
  },
  {
   "cell_type": "code",
   "execution_count": 88,
   "id": "88f73c37",
   "metadata": {},
   "outputs": [
    {
     "data": {
      "text/plain": [
       "array([[7.40e+00, 7.00e-01, 0.00e+00, ..., 6.66e+02, 9.40e+00, 5.00e+00],\n",
       "       [7.80e+00, 8.80e-01, 0.00e+00, ..., 6.66e+02, 9.80e+00, 5.00e+00],\n",
       "       [7.80e+00, 7.60e-01, 4.00e-02, ..., 6.66e+02, 9.80e+00, 5.00e+00],\n",
       "       ...,\n",
       "       [6.30e+00, 5.10e-01, 1.30e-01, ..., 6.66e+02, 1.10e+01, 6.00e+00],\n",
       "       [5.90e+00, 6.45e-01, 1.20e-01, ..., 6.66e+02, 1.02e+01, 5.00e+00],\n",
       "       [6.00e+00, 3.10e-01, 4.70e-01, ..., 6.66e+02, 1.10e+01, 6.00e+00]])"
      ]
     },
     "execution_count": 88,
     "metadata": {},
     "output_type": "execute_result"
    }
   ],
   "source": [
    "wines"
   ]
  },
  {
   "cell_type": "code",
   "execution_count": 89,
   "id": "9301e0cc",
   "metadata": {},
   "outputs": [
    {
     "name": "stdout",
     "output_type": "stream",
     "text": [
      "data type of wines array before changing to int  is: float64\n",
      "data type of wines array  after changing to int is: int64\n"
     ]
    }
   ],
   "source": [
    "print('data type of wines array before changing to int  is:',wines.dtype)\n",
    "wines=wines.astype(np.int64)\n",
    "print('data type of wines array  after changing to int is:',wines.dtype)"
   ]
  },
  {
   "cell_type": "code",
   "execution_count": 91,
   "id": "201ddd82",
   "metadata": {},
   "outputs": [
    {
     "data": {
      "text/plain": [
       "array([[  7,   0,   0, ..., 666,   9,   5],\n",
       "       [  7,   0,   0, ..., 666,   9,   5],\n",
       "       [  7,   0,   0, ..., 666,   9,   5],\n",
       "       ...,\n",
       "       [  6,   0,   0, ..., 666,  11,   6],\n",
       "       [  5,   0,   0, ..., 666,  10,   5],\n",
       "       [  6,   0,   0, ..., 666,  11,   6]], dtype=int64)"
      ]
     },
     "execution_count": 91,
     "metadata": {},
     "output_type": "execute_result"
    }
   ],
   "source": [
    "wines"
   ]
  },
  {
   "cell_type": "code",
   "execution_count": 90,
   "id": "eaaa5967",
   "metadata": {},
   "outputs": [
    {
     "name": "stdout",
     "output_type": "stream",
     "text": [
      "quality scores wines before Adding 10 points to each is: [5 5 5 ... 6 5 6]\n",
      "quality scores wines after Adding 10 points to each is: [15 15 15 ... 16 15 16]\n"
     ]
    }
   ],
   "source": [
    "print('quality scores wines before Adding 10 points to each is:',wines[:,11])\n",
    "print('quality scores wines after Adding 10 points to each is:',wines[:,11]+10)"
   ]
  },
  {
   "cell_type": "code",
   "execution_count": 92,
   "id": "e6d5af1b",
   "metadata": {},
   "outputs": [
    {
     "data": {
      "text/plain": [
       "array([[  7,   0,   0, ..., 666,   9,   5],\n",
       "       [  7,   0,   0, ..., 666,   9,   5],\n",
       "       [  7,   0,   0, ..., 666,   9,   5],\n",
       "       ...,\n",
       "       [  6,   0,   0, ..., 666,  11,   6],\n",
       "       [  5,   0,   0, ..., 666,  10,   5],\n",
       "       [  6,   0,   0, ..., 666,  11,   6]], dtype=int64)"
      ]
     },
     "execution_count": 92,
     "metadata": {},
     "output_type": "execute_result"
    }
   ],
   "source": [
    "wines"
   ]
  },
  {
   "cell_type": "code",
   "execution_count": 93,
   "id": "a7dbc270",
   "metadata": {},
   "outputs": [
    {
     "data": {
      "text/plain": [
       "1210398"
      ]
     },
     "execution_count": 93,
     "metadata": {},
     "output_type": "execute_result"
    }
   ],
   "source": [
    "np.sum(wines)"
   ]
  },
  {
   "cell_type": "code",
   "execution_count": 94,
   "id": "43f4bbad",
   "metadata": {},
   "outputs": [
    {
     "data": {
      "text/plain": [
       "array([  12589,      24,       1,    3350,       0,   25367,   74301,\n",
       "            81,    4770, 1064934,   15969,    9012], dtype=int64)"
      ]
     },
     "execution_count": 94,
     "metadata": {},
     "output_type": "execute_result"
    }
   ],
   "source": [
    "np.sum(wines,axis=0)"
   ]
  },
  {
   "cell_type": "code",
   "execution_count": 95,
   "id": "10b01f03",
   "metadata": {},
   "outputs": [
    {
     "data": {
      "text/plain": [
       "array([736, 769, 761, ..., 763, 767, 755], dtype=int64)"
      ]
     },
     "execution_count": 95,
     "metadata": {},
     "output_type": "execute_result"
    }
   ],
   "source": [
    "np.sum(wines,axis=1)"
   ]
  },
  {
   "cell_type": "code",
   "execution_count": 96,
   "id": "201d909e",
   "metadata": {},
   "outputs": [
    {
     "data": {
      "text/plain": [
       "array([   5,   10,   15, ..., 9001, 9006, 9012], dtype=int64)"
      ]
     },
     "execution_count": 96,
     "metadata": {},
     "output_type": "execute_result"
    }
   ],
   "source": [
    "np.cumsum(wines[0:,11])"
   ]
  },
  {
   "cell_type": "code",
   "execution_count": 97,
   "id": "5cc9316f",
   "metadata": {},
   "outputs": [
    {
     "data": {
      "text/plain": [
       "9012"
      ]
     },
     "execution_count": 97,
     "metadata": {},
     "output_type": "execute_result"
    }
   ],
   "source": [
    "np.sum(wines[0:,11])"
   ]
  },
  {
   "cell_type": "code",
   "execution_count": 98,
   "id": "61558ff5",
   "metadata": {},
   "outputs": [
    {
     "name": "stdout",
     "output_type": "stream",
     "text": [
      "[ 9  9  9 ... 11 10 11]\n",
      "[5 5 5 ... 6 5 6]\n"
     ]
    }
   ],
   "source": [
    "print(wines[0:,10])\n",
    "print(wines[0:,11])"
   ]
  },
  {
   "cell_type": "code",
   "execution_count": 99,
   "id": "ee244300",
   "metadata": {},
   "outputs": [
    {
     "data": {
      "text/plain": [
       "array([45, 45, 45, ..., 66, 50, 66], dtype=int64)"
      ]
     },
     "execution_count": 99,
     "metadata": {},
     "output_type": "execute_result"
    }
   ],
   "source": [
    "wines[0:,10]*wines[0:,11]"
   ]
  },
  {
   "cell_type": "code",
   "execution_count": 120,
   "id": "b23ae757",
   "metadata": {},
   "outputs": [
    {
     "name": "stdout",
     "output_type": "stream",
     "text": [
      "6 7 7 7 6 6 6 6 6 6 6 6 7 6 6 6 6 6 7 6 6 6 6 6 6 6 6 6 6 6 6 6 6 6 6 6 6 6 7 6 6 6 6 6 6 6 6 6 6 6 6 6 6 6 6 6 7 7 6 7 7 7 6 6 6 6 6 6 6 6 6 7 6 6 6 6 6 6 6 6 6 6 7 7 6 6 6 6 6 6 7 7 8 6 6 6 6 6 6 6 8 7 6 7 7 6 6 7 7 6 6 6 6 6 6 6 6 6 6 6 6 6 6 7 6 7 6 6 6 7 6 6 6 6 7 7 6 6 7 6 6 6 6 6 7 6 6 6 6 6 6 6 7 7 6 6 7 6 7 7 6 6 6 7 6 7 6 6 6 6 6 6 6 6 6 6 7 8 6 7 6 6 6 6 6 6 6 7 6 6 7 6 6 7 7 7 7 6 6 6 7 6 6 6 6 6 8 6 7 7 7 6 6 6 6 6 6 7 8 7 6 6 6 6 6 6 6 6 6 6 8 6 6 7 6 6 7 7 6 6 8 6 8 6 6 7 7 7 7 7 7 6 6 7 6 6 7 7 6 6 6 6 6 6 6 6 6 6 7 6 6 6 6 6 6 6 6 6 6 6 6 6 6 6 6 6 6 6 6 6 6 6 6 7 7 6 7 8 7 6 6 6 6 6 6 6 6 6 7 6 6 6 6 6 6 6 6 6 6 7 6 7 7 6 6 7 6 6 6 6 6 6 6 6 6 6 6 6 6 6 6 6 6 6 6 6 6 6 6 6 6 6 6 6 6 6 6 6 6 6 6 6 6 6 6 6 6 6 6 6 6 6 7 6 6 7 6 6 7 7 7 6 6 6 6 6 7 7 8 6 6 7 7 7 7 6 6 6 6 6 7 6 7 7 6 6 6 6 6 6 6 7 7 7 6 6 6 6 6 6 7 6 6 6 6 7 6 7 7 7 7 7 6 6 6 6 6 6 7 6 6 6 6 6 6 6 6 7 6 7 6 6 6 7 7 7 7 7 7 7 7 7 7 7 7 7 7 7 6 6 6 7 6 6 6 6 7 6 6 6 7 7 7 6 6 6 6 7 6 6 6 7 7 6 6 7 7 7 7 7 7 7 7 7 6 6 6 6 7 6 6 6 6 6 7 6 6 6 7 7 7 6 6 7 7 7 6 6 6 7 6 6 6 6 6 7 6 6 7 7 7 6 8 6 6 6 6 7 7 7 7 6 6 7 6 7 6 7 6 6 6 7 6 7 7 8 6 6 7 6 6 7 6 6 6 6 6 6 7 6 6 7 6 6 6 6 6 6 6 8 6 6 6 7 6 6 6 6 7 7 7 6 6 6 6 6 6 6 6 6 6 7 6 6 7 6 6 6 7 7 6 7 6 7 7 6 6 6 6 6 6 6 6 7 6 6 6 6 6 6 7 6 6 6 6 6 6 6 7 8 7 7 7 7 7 6 6 6 6 6 6 6 6 6 6 6 6 6 6 7 6 6 6 6 6 6 6 6 6 6 6 6 6 6 6 6 6 8 6 6 6 6 6 6 7 6 6 6 6 6 6 6 6 6 6 6 6 6 6 6 6 6 6 6 6 6 6 7 6 6 6 6 6 6 6 6 6 6 6 6 6 6 6 6 6 6 6 6 6 6 6 6 6 6 6 6 7 6 6 8 6 7 6 6 7 6 6 6 6 7 6 6 6 6 6 6 7 6 6 6 7 6 6 6 8 7 7 7 6 6 6 7 6 6 6 7 7 6 7 7 6 6 7 6 6 6 6 6 6 6 6 6 6 6 6 6 6 6 6 6 6 6 6 6 6 6 7 6 6 6 6 7 6 6 7 6 8 6 6 7 6 6 6 6 6 6 6 6 6 6 6 6 6 7 6 6 6 6 6 6 6 6 6 6 6 "
     ]
    }
   ],
   "source": [
    "c=0\n",
    "for i in wines[:,11]:\n",
    "    if i>5:\n",
    "        print(i,end=' ')\n",
    "        c+=1"
   ]
  },
  {
   "cell_type": "code",
   "execution_count": 118,
   "id": "63cafcc9",
   "metadata": {},
   "outputs": [
    {
     "data": {
      "text/plain": [
       "array([[6, 7, 7, 7, 6, 6, 6, 6, 6, 6, 6, 6, 7, 6, 6, 6, 6, 6, 7, 6, 6, 6,\n",
       "        6, 6, 6, 6, 6, 6, 6, 6, 6, 6, 6, 6, 6, 6, 6, 6, 7, 6, 6, 6, 6, 6,\n",
       "        6, 6, 6, 6, 6, 6, 6, 6, 6, 6, 6, 6, 7, 7, 6, 7, 7, 7, 6, 6, 6, 6,\n",
       "        6, 6, 6, 6, 6, 7, 6, 6, 6, 6, 6, 6, 6, 6, 6, 6, 7, 7, 6, 6, 6, 6,\n",
       "        6, 6, 7, 7, 8, 6, 6, 6, 6, 6, 6, 6, 8, 7, 6, 7, 7, 6, 6, 7, 7, 6,\n",
       "        6, 6, 6, 6, 6, 6, 6, 6, 6, 6, 6, 6, 6, 7, 6, 7, 6, 6, 6, 7, 6, 6,\n",
       "        6, 6, 7, 7, 6, 6, 7, 6, 6, 6, 6, 6, 7, 6, 6, 6, 6, 6, 6, 6, 7, 7,\n",
       "        6, 6, 7, 6, 7, 7, 6, 6, 6, 7, 6, 7, 6, 6, 6, 6, 6, 6, 6, 6, 6, 6,\n",
       "        7, 8, 6, 7, 6, 6, 6, 6, 6, 6, 6, 7, 6, 6, 7, 6, 6, 7, 7, 7, 7, 6,\n",
       "        6, 6, 7, 6, 6, 6, 6, 6, 8, 6, 7, 7, 7, 6, 6, 6, 6, 6, 6, 7, 8, 7,\n",
       "        6, 6, 6, 6, 6, 6, 6, 6, 6, 6, 8, 6, 6, 7, 6, 6, 7, 7, 6, 6, 8, 6,\n",
       "        8, 6, 6, 7, 7, 7, 7, 7, 7, 6, 6, 7, 6, 6, 7, 7, 6, 6, 6, 6, 6, 6,\n",
       "        6, 6, 6, 6, 7, 6, 6, 6, 6, 6, 6, 6, 6, 6, 6, 6, 6, 6, 6, 6, 6, 6,\n",
       "        6, 6, 6, 6, 6, 6, 6, 7, 7, 6, 7, 8, 7, 6, 6, 6, 6, 6, 6, 6, 6, 6,\n",
       "        7, 6, 6, 6, 6, 6, 6, 6, 6, 6, 6, 7, 6, 7, 7, 6, 6, 7, 6, 6, 6, 6,\n",
       "        6, 6, 6, 6, 6, 6, 6, 6, 6, 6, 6, 6, 6, 6, 6, 6, 6, 6, 6, 6, 6, 6,\n",
       "        6, 6, 6, 6, 6, 6, 6, 6, 6, 6, 6, 6, 6, 6, 6, 6, 6, 6, 6, 6, 7, 6,\n",
       "        6, 7, 6, 6, 7, 7, 7, 6, 6, 6, 6, 6, 7, 7, 8, 6, 6, 7, 7, 7, 7, 6,\n",
       "        6, 6, 6, 6, 7, 6, 7, 7, 6, 6, 6, 6, 6, 6, 6, 7, 7, 7, 6, 6, 6, 6,\n",
       "        6, 6, 7, 6, 6, 6, 6, 7, 6, 7, 7, 7, 7, 7, 6, 6, 6, 6, 6, 6, 7, 6,\n",
       "        6, 6, 6, 6, 6, 6, 6, 7, 6, 7, 6, 6, 6, 7, 7, 7, 7, 7, 7, 7, 7, 7,\n",
       "        7, 7, 7, 7, 7, 7, 6, 6, 6, 7, 6, 6, 6, 6, 7, 6, 6, 6, 7, 7, 7, 6,\n",
       "        6, 6, 6, 7, 6, 6, 6, 7, 7, 6, 6, 7, 7, 7, 7, 7, 7, 7, 7, 7, 6, 6,\n",
       "        6, 6, 7, 6, 6, 6, 6, 6, 7, 6, 6, 6, 7, 7, 7, 6, 6, 7, 7, 7, 6, 6,\n",
       "        6, 7, 6, 6, 6, 6, 6, 7, 6, 6, 7, 7, 7, 6, 8, 6, 6, 6, 6, 7, 7, 7,\n",
       "        7, 6, 6, 7, 6, 7, 6, 7, 6, 6, 6, 7, 6, 7, 7, 8, 6, 6, 7, 6, 6, 7,\n",
       "        6, 6, 6, 6, 6, 6, 7, 6, 6, 7, 6, 6, 6, 6, 6, 6, 6, 8, 6, 6, 6, 7,\n",
       "        6, 6, 6, 6, 7, 7, 7, 6, 6, 6, 6, 6, 6, 6, 6, 6, 6, 7, 6, 6, 7, 6,\n",
       "        6, 6, 7, 7, 6, 7, 6, 7, 7, 6, 6, 6, 6, 6, 6, 6, 6, 7, 6, 6, 6, 6,\n",
       "        6, 6, 7, 6, 6, 6, 6, 6, 6, 6, 7, 8, 7, 7, 7, 7, 7, 6, 6, 6, 6, 6,\n",
       "        6, 6, 6, 6, 6, 6, 6, 6, 6, 7, 6, 6, 6, 6, 6, 6, 6, 6, 6, 6, 6, 6,\n",
       "        6, 6, 6, 6, 6, 8, 6, 6, 6, 6, 6, 6, 7, 6, 6, 6, 6, 6, 6, 6, 6, 6,\n",
       "        6, 6, 6, 6, 6, 6, 6, 6, 6, 6, 6, 6, 6, 7, 6, 6, 6, 6, 6, 6, 6, 6,\n",
       "        6, 6, 6, 6, 6, 6, 6, 6, 6, 6, 6, 6, 6, 6, 6, 6, 6, 6, 6, 6, 7, 6,\n",
       "        6, 8, 6, 7, 6, 6, 7, 6, 6, 6, 6, 7, 6, 6, 6, 6, 6, 6, 7, 6, 6, 6,\n",
       "        7, 6, 6, 6, 8, 7, 7, 7, 6, 6, 6, 7, 6, 6, 6, 7, 7, 6, 7, 7, 6, 6,\n",
       "        7, 6, 6, 6, 6, 6, 6, 6, 6, 6, 6, 6, 6, 6, 6, 6, 6, 6, 6, 6, 6, 6,\n",
       "        6, 6, 7, 6, 6, 6, 6, 7, 6, 6, 7, 6, 8, 6, 6, 7, 6, 6, 6, 6, 6, 6,\n",
       "        6, 6, 6, 6, 6, 6, 6, 7, 6, 6, 6, 6, 6, 6, 6, 6, 6, 6, 6]],\n",
       "      dtype=int64)"
      ]
     },
     "execution_count": 118,
     "metadata": {},
     "output_type": "execute_result"
    }
   ],
   "source": [
    "b=np.where(wines[:,11]>5)\n",
    "wines[b,11]"
   ]
  },
  {
   "cell_type": "code",
   "execution_count": 126,
   "id": "49adf696",
   "metadata": {},
   "outputs": [
    {
     "name": "stdout",
     "output_type": "stream",
     "text": [
      "no wines have a quality rating equal to 10\n"
     ]
    }
   ],
   "source": [
    "a=np.where(wines[:,11]==10)\n",
    "if wines[a,11].size>0:\n",
    "    print('wines have a quality rating equal to 10')\n",
    "else:\n",
    "    print('no wines have a quality rating equal to 10')"
   ]
  },
  {
   "cell_type": "code",
   "execution_count": 134,
   "id": "8dbbfc77",
   "metadata": {},
   "outputs": [
    {
     "name": "stdout",
     "output_type": "stream",
     "text": [
      "[[  7   0   0   3   0  15  37   0   3 666  12   8]\n",
      " [ 10   0   0   6   0   5  13   0   3 666  12   8]\n",
      " [  5   0   0   1   0  12  88   0   3 666  12   8]\n",
      " [ 12   0   0   2   0   6  29   0   2 666   9   8]\n",
      " [ 11   0   0   5   0   6  19   0   3 666  13   8]\n",
      " [  9   0   0   2   0   6  17   0   3 666  11   8]\n",
      " [ 10   0   0   2   0   5  16   0   3 666  11   8]\n",
      " [ 10   0   0   2   0   5  16   0   3 666  11   8]\n",
      " [  5   0   0   2   0  19  50   0   3 666  14   8]\n",
      " [  7   0   0   2   0  34  45   0   3 666  12   8]\n",
      " [  9   0   0   1   0   7  16   0   3 666  12   8]\n",
      " [ 10   0   0   1   0  42  74   0   2 666  11   8]\n",
      " [  7   0   0   2   0   8  17   0   3 666  13   8]\n",
      " [  8   0   0   1   0   6  12   0   3 666  11   8]\n",
      " [  5   0   0   1   0  28  87   0   3 666  14   8]\n",
      " [  7   0   0   1   0   3  13   0   3 666  10   8]\n",
      " [  7   0   0   2   0  15  29   0   3 666  11   8]\n",
      " [  7   0   0   1   0  17  24   0   3 666  11   8]]\n"
     ]
    }
   ],
   "source": [
    "print(wines[wines[:,-1]>7])"
   ]
  },
  {
   "cell_type": "code",
   "execution_count": 138,
   "id": "18241f06",
   "metadata": {},
   "outputs": [
    {
     "name": "stdout",
     "output_type": "stream",
     "text": [
      "[[  7   0   0   3   0  15  37   0   3 666  12   8]\n",
      " [ 10   0   0   6   0   5  13   0   3 666  12   8]\n",
      " [  5   0   0   1   0  12  88   0   3 666  12   8]\n",
      " [ 11   0   0   5   0   6  19   0   3 666  13   8]\n",
      " [  9   0   0   2   0   6  17   0   3 666  11   8]\n",
      " [ 10   0   0   2   0   5  16   0   3 666  11   8]\n",
      " [ 10   0   0   2   0   5  16   0   3 666  11   8]\n",
      " [  5   0   0   2   0  19  50   0   3 666  14   8]\n",
      " [  7   0   0   2   0  34  45   0   3 666  12   8]\n",
      " [  9   0   0   1   0   7  16   0   3 666  12   8]\n",
      " [ 10   0   0   1   0  42  74   0   2 666  11   8]\n",
      " [  7   0   0   2   0   8  17   0   3 666  13   8]\n",
      " [  8   0   0   1   0   6  12   0   3 666  11   8]\n",
      " [  5   0   0   1   0  28  87   0   3 666  14   8]\n",
      " [  7   0   0   2   0  15  29   0   3 666  11   8]\n",
      " [  7   0   0   1   0  17  24   0   3 666  11   8]]\n"
     ]
    }
   ],
   "source": [
    "print(wines[(wines[:,-1]>7) & (wines[:,-2]>10)])"
   ]
  },
  {
   "cell_type": "code",
   "execution_count": 129,
   "id": "fc82e825",
   "metadata": {},
   "outputs": [
    {
     "data": {
      "text/plain": [
       "array([[  7,   0,   0, ...,   6,   0,   0],\n",
       "       [  1,   0,  17, ...,   3,   0,  26],\n",
       "       [ 61,   1,   3, ...,  42,   0,   3],\n",
       "       ...,\n",
       "       [  2,   0,  23, ...,   1,   0,   6],\n",
       "       [ 25,   0,   3, ...,  53,   0,   3],\n",
       "       [666,   9,   5, ..., 666,  11,   6]], dtype=int64)"
      ]
     },
     "execution_count": 129,
     "metadata": {},
     "output_type": "execute_result"
    }
   ],
   "source": [
    "np.reshape(wines,(12,1599))"
   ]
  }
 ],
 "metadata": {
  "kernelspec": {
   "display_name": "Python 3 (ipykernel)",
   "language": "python",
   "name": "python3"
  },
  "language_info": {
   "codemirror_mode": {
    "name": "ipython",
    "version": 3
   },
   "file_extension": ".py",
   "mimetype": "text/x-python",
   "name": "python",
   "nbconvert_exporter": "python",
   "pygments_lexer": "ipython3",
   "version": "3.9.7"
  }
 },
 "nbformat": 4,
 "nbformat_minor": 5
}
