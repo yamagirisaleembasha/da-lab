{
 "cells": [
  {
   "cell_type": "markdown",
   "id": "376fd52a",
   "metadata": {},
   "source": [
    "# a.Using Numpy, write a basic array of operations on single array to add x to each element of array and subtract y from each element of array."
   ]
  },
  {
   "cell_type": "code",
   "execution_count": 1,
   "id": "79a059dd",
   "metadata": {},
   "outputs": [
    {
     "name": "stdout",
     "output_type": "stream",
     "text": [
      "[4 5 6]\n",
      "[-5 -4 -3]\n"
     ]
    }
   ],
   "source": [
    "import numpy as np\n",
    "a=np.array([1,2,3])\n",
    "print(a+3)\n",
    "print(a-6)"
   ]
  },
  {
   "cell_type": "markdown",
   "id": "6d8267dd",
   "metadata": {},
   "source": [
    "# b. Using Numpy, write a program to add, subtract and multiply two matrices. "
   ]
  },
  {
   "cell_type": "code",
   "execution_count": 4,
   "id": "08c3fdf1",
   "metadata": {},
   "outputs": [
    {
     "name": "stdout",
     "output_type": "stream",
     "text": [
      "sum: [[ 5  7  9]\n",
      " [11 13 15]\n",
      " [17 19 21]]\n",
      "difference: [[3 3 3]\n",
      " [3 3 3]\n",
      " [3 3 3]]\n",
      "product: [[ 48  54  60]\n",
      " [111 126 141]\n",
      " [174 198 222]]\n"
     ]
    }
   ],
   "source": [
    "b=np.array([[1,2,3],[4,5,6],[7,8,9]])\n",
    "c=np.array([[4,5,6],[7,8,9],[10,11,12]])\n",
    "print('sum:',c+b)\n",
    "print('difference:',c-b)\n",
    "print('product:',np.dot(b,c))"
   ]
  },
  {
   "cell_type": "markdown",
   "id": "7a485f63",
   "metadata": {},
   "source": [
    "# c.Write a Python program to do the following operations: Library: NumPy\n"
   ]
  },
  {
   "cell_type": "markdown",
   "id": "e93bec96",
   "metadata": {},
   "source": [
    "# i)\tCreate multi-dimensional arrays and find its shape and dimension "
   ]
  },
  {
   "cell_type": "code",
   "execution_count": 8,
   "id": "f08e1c27",
   "metadata": {},
   "outputs": [
    {
     "name": "stdout",
     "output_type": "stream",
     "text": [
      "shape: (2, 2, 3)\n",
      "dimensions: 3\n"
     ]
    }
   ],
   "source": [
    "m=np.array([[[1,2,3],[4,5,6]],[[4,5,6],[7,8,9]]])\n",
    "print('shape:',m.shape)\n",
    "print('dimensions:',m.ndim)\n"
   ]
  },
  {
   "cell_type": "markdown",
   "id": "d25ab08a",
   "metadata": {},
   "source": [
    "# ii)\tCreate a matrix full of zeros and ones "
   ]
  },
  {
   "cell_type": "code",
   "execution_count": 9,
   "id": "049cc663",
   "metadata": {},
   "outputs": [
    {
     "name": "stdout",
     "output_type": "stream",
     "text": [
      "[[1. 1. 1.]\n",
      " [1. 1. 1.]\n",
      " [1. 1. 1.]]\n",
      "[[0. 0.]\n",
      " [0. 0.]]\n"
     ]
    }
   ],
   "source": [
    "zeros=np.zeros([2,2])\n",
    "ones=np.ones([3,3])\n",
    "print(ones)\n",
    "print(zeros)"
   ]
  },
  {
   "cell_type": "markdown",
   "id": "7aaa72c5",
   "metadata": {},
   "source": [
    "# iii)\tReshape and flatten data in the array "
   ]
  },
  {
   "cell_type": "code",
   "execution_count": 13,
   "id": "5d85ad77",
   "metadata": {},
   "outputs": [
    {
     "name": "stdout",
     "output_type": "stream",
     "text": [
      "[[1]\n",
      " [2]\n",
      " [3]]\n",
      "[0. 0. 0. 0.]\n"
     ]
    }
   ],
   "source": [
    "resh=a.reshape([3,1])\n",
    "print(resh)\n",
    "f=zeros.flatten()\n",
    "print(f)"
   ]
  },
  {
   "cell_type": "markdown",
   "id": "2f8dc115",
   "metadata": {},
   "source": [
    "# iv)\tAppend data vertically and horizontally "
   ]
  },
  {
   "cell_type": "code",
   "execution_count": 19,
   "id": "8e287e79",
   "metadata": {},
   "outputs": [
    {
     "name": "stdout",
     "output_type": "stream",
     "text": [
      "[1 2 3 4 5 6]\n",
      "[[1 2 3]\n",
      " [4 5 6]]\n"
     ]
    }
   ],
   "source": [
    "b=np.array([4,5,6])\n",
    "horizontal_append=np.hstack((a,b))\n",
    "print(horizontal_append)\n",
    "vertical_append=np.vstack((a,b))\n",
    "print(vertical_append)"
   ]
  },
  {
   "cell_type": "markdown",
   "id": "0e31cab2",
   "metadata": {},
   "source": [
    "# v)\tApply indexing and slicing on array "
   ]
  },
  {
   "cell_type": "code",
   "execution_count": 21,
   "id": "2051d217",
   "metadata": {},
   "outputs": [
    {
     "name": "stdout",
     "output_type": "stream",
     "text": [
      "[5 6]\n",
      "4\n"
     ]
    }
   ],
   "source": [
    "d=b[1:]\n",
    "print(d)\n",
    "c=b[0]\n",
    "print(c)"
   ]
  },
  {
   "cell_type": "markdown",
   "id": "71ee00c3",
   "metadata": {},
   "source": [
    "# vi)\tUse statistical functions on array - Min, Max, Mean, Median and Standard Deviation "
   ]
  },
  {
   "cell_type": "code",
   "execution_count": 28,
   "id": "05738b1f",
   "metadata": {},
   "outputs": [
    {
     "name": "stdout",
     "output_type": "stream",
     "text": [
      "1\n",
      "3\n",
      "2.0\n",
      "2\n",
      "0.816496580927726\n"
     ]
    }
   ],
   "source": [
    "import statistics as s\n",
    "print(a.min())\n",
    "print(a.max())\n",
    "print(a.mean())\n",
    "print(s.median(a))\n",
    "print(np.std(a))"
   ]
  },
  {
   "cell_type": "markdown",
   "id": "b24b8a80",
   "metadata": {},
   "source": [
    "# vii)\tDot and matrix product of two arrays "
   ]
  },
  {
   "cell_type": "code",
   "execution_count": 38,
   "id": "54563c24",
   "metadata": {},
   "outputs": [
    {
     "name": "stdout",
     "output_type": "stream",
     "text": [
      "dot: [[ 4 10 18]]\n",
      "matrix multiplication: [32]\n"
     ]
    }
   ],
   "source": [
    "print('dot:',a*b)\n",
    "b=b.reshape(1,3)\n",
    "print('matrix multiplication:',np.dot(a,(b.T)))"
   ]
  },
  {
   "cell_type": "markdown",
   "id": "8102f639",
   "metadata": {},
   "source": [
    "# viii)\tCompute the Eigen values of a matrix "
   ]
  },
  {
   "cell_type": "code",
   "execution_count": 40,
   "id": "d8cb67cd",
   "metadata": {},
   "outputs": [
    {
     "name": "stdout",
     "output_type": "stream",
     "text": [
      "[ 1.61168440e+01 -1.11684397e+00 -3.38433605e-16]\n"
     ]
    }
   ],
   "source": [
    "e=np.array([[1,2,3],[4,5,6],[7,8,9]])\n",
    "print(np.linalg.eigvals(e))"
   ]
  },
  {
   "cell_type": "markdown",
   "id": "742bbc57",
   "metadata": {},
   "source": [
    "# ix)\tSolve a linear matrix equation such as 3 * x0 + x1 = 9, x0 + 2 * x1 = 8 "
   ]
  },
  {
   "cell_type": "code",
   "execution_count": 41,
   "id": "f2c849f2",
   "metadata": {},
   "outputs": [
    {
     "data": {
      "text/plain": [
       "array([2., 3.])"
      ]
     },
     "execution_count": 41,
     "metadata": {},
     "output_type": "execute_result"
    }
   ],
   "source": [
    "coef=np.array([[3,1],[1,2]])\n",
    "con=np.array([9,8])\n",
    "np.linalg.solve(coef,con)"
   ]
  },
  {
   "cell_type": "markdown",
   "id": "2b122721",
   "metadata": {},
   "source": [
    "# x)\tCompute the multiplicative inverse of a matrix "
   ]
  },
  {
   "cell_type": "code",
   "execution_count": 44,
   "id": "e1618ff9",
   "metadata": {},
   "outputs": [
    {
     "name": "stdout",
     "output_type": "stream",
     "text": [
      "[[-0.66666667 -1.33333333  1.        ]\n",
      " [-0.66666667  3.66666667 -2.        ]\n",
      " [ 1.         -2.          1.        ]]\n"
     ]
    }
   ],
   "source": [
    "b=np.array([[1,2,3],[4,5,6],[7,8,10]])\n",
    "inv=np.linalg.inv(b)\n",
    "print(inv)"
   ]
  },
  {
   "cell_type": "markdown",
   "id": "81d6b93b",
   "metadata": {},
   "source": [
    "# xi)\tCompute the rank of a matrix "
   ]
  },
  {
   "cell_type": "code",
   "execution_count": 47,
   "id": "663e7961",
   "metadata": {},
   "outputs": [
    {
     "name": "stdout",
     "output_type": "stream",
     "text": [
      "2\n"
     ]
    }
   ],
   "source": [
    "rank=np.linalg.matrix_rank([[1,2,3],[2,1,4],[3,0,5]])\n",
    "print(rank)"
   ]
  },
  {
   "cell_type": "markdown",
   "id": "91e77723",
   "metadata": {},
   "source": [
    "# xii)\t Compute the determinant of an array"
   ]
  },
  {
   "cell_type": "code",
   "execution_count": 53,
   "id": "569015a9",
   "metadata": {},
   "outputs": [
    {
     "name": "stdout",
     "output_type": "stream",
     "text": [
      "(3, 3)\n",
      "-9.51619735392994e-16\n"
     ]
    }
   ],
   "source": [
    "de=np.array([[1,2,3],[4,5,6],[7,8,9]])\n",
    "print(de.shape)\n",
    "det1=np.linalg.det(de)\n",
    "print(det1)"
   ]
  }
 ],
 "metadata": {
  "kernelspec": {
   "display_name": "Python 3 (ipykernel)",
   "language": "python",
   "name": "python3"
  },
  "language_info": {
   "codemirror_mode": {
    "name": "ipython",
    "version": 3
   },
   "file_extension": ".py",
   "mimetype": "text/x-python",
   "name": "python",
   "nbconvert_exporter": "python",
   "pygments_lexer": "ipython3",
   "version": "3.9.7"
  }
 },
 "nbformat": 4,
 "nbformat_minor": 5
}
