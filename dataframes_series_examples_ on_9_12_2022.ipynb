{
 "cells": [
  {
   "cell_type": "code",
   "execution_count": 11,
   "id": "0470486b",
   "metadata": {},
   "outputs": [
    {
     "name": "stdout",
     "output_type": "stream",
     "text": [
      "0    1\n",
      "1    2\n",
      "2    3\n",
      "3    4\n",
      "dtype: int64\n"
     ]
    }
   ],
   "source": [
    "import pandas as pd\n",
    "a=pd.Series([1,2,3,4])\n",
    "b=pd.Series([5,6,7,8])\n",
    "print(a)"
   ]
  },
  {
   "cell_type": "code",
   "execution_count": 12,
   "id": "9f4643c1",
   "metadata": {},
   "outputs": [
    {
     "data": {
      "text/plain": [
       "pandas.core.series.Series"
      ]
     },
     "execution_count": 12,
     "metadata": {},
     "output_type": "execute_result"
    }
   ],
   "source": [
    "type(a)"
   ]
  },
  {
   "cell_type": "code",
   "execution_count": 13,
   "id": "f1e5daf9",
   "metadata": {},
   "outputs": [
    {
     "data": {
      "text/plain": [
       "[1, 2, 3, 4]"
      ]
     },
     "execution_count": 13,
     "metadata": {},
     "output_type": "execute_result"
    }
   ],
   "source": [
    "la=list(a)\n",
    "la"
   ]
  },
  {
   "cell_type": "code",
   "execution_count": 14,
   "id": "d5d9e4f9",
   "metadata": {},
   "outputs": [
    {
     "name": "stdout",
     "output_type": "stream",
     "text": [
      "add: 0     6\n",
      "1     8\n",
      "2    10\n",
      "3    12\n",
      "dtype: int64\n",
      "difference: 0    4\n",
      "1    4\n",
      "2    4\n",
      "3    4\n",
      "dtype: int64\n",
      "product: 0     5\n",
      "1    12\n",
      "2    21\n",
      "3    32\n",
      "dtype: int64\n",
      "divide: 0    5.000000\n",
      "1    3.000000\n",
      "2    2.333333\n",
      "3    2.000000\n",
      "dtype: float64\n"
     ]
    }
   ],
   "source": [
    "print('add:',a+b)\n",
    "print('difference:',b-a)\n",
    "print('product:',a*b)\n",
    "print('divide:',b/a)"
   ]
  },
  {
   "cell_type": "code",
   "execution_count": 19,
   "id": "7d18e5d2",
   "metadata": {},
   "outputs": [
    {
     "name": "stdout",
     "output_type": "stream",
     "text": [
      "0    SALEEM\n",
      "1    SRIRAM\n",
      "2       ALI\n",
      "dtype: object\n",
      "0    saleem\n",
      "1    sriram\n",
      "2       ali\n",
      "dtype: object\n",
      "3\n"
     ]
    }
   ],
   "source": [
    "st=pd.Series(['saleem','sriram','ali'])\n",
    "print(st.str.upper())\n",
    "print(st.str.lower())\n",
    "print(len(st))"
   ]
  },
  {
   "cell_type": "code",
   "execution_count": 25,
   "id": "1621739c",
   "metadata": {},
   "outputs": [
    {
     "name": "stdout",
     "output_type": "stream",
     "text": [
      "left side white spaces:\n",
      "0    saleem \n",
      "1     sriram\n",
      "2       ali \n",
      "dtype: object\n",
      "right side white spaces:\n",
      "0     saleem\n",
      "1     sriram\n",
      "2        ali\n",
      "dtype: object\n",
      "0    saleem\n",
      "1    sriram\n",
      "2       ali\n",
      "dtype: object\n"
     ]
    }
   ],
   "source": [
    "st=pd.Series(['saleem ',' sriram',' ali '])\n",
    "print('left side white spaces:')\n",
    "s=st.str\n",
    "print(s.lstrip())\n",
    "print('right side white spaces:')\n",
    "print(s.rstrip())\n",
    "print(s.strip())"
   ]
  },
  {
   "cell_type": "code",
   "execution_count": 40,
   "id": "c55b82a3",
   "metadata": {},
   "outputs": [],
   "source": [
    "sinfo=pd.DataFrame(data=[['y20cs190','saleembasha','subhani','9392714584']],columns=['regd number','sname','father name','mobile number'],index=['REGD NUMBER'])"
   ]
  },
  {
   "cell_type": "code",
   "execution_count": 41,
   "id": "30eb1d9f",
   "metadata": {},
   "outputs": [
    {
     "data": {
      "text/html": [
       "<div>\n",
       "<style scoped>\n",
       "    .dataframe tbody tr th:only-of-type {\n",
       "        vertical-align: middle;\n",
       "    }\n",
       "\n",
       "    .dataframe tbody tr th {\n",
       "        vertical-align: top;\n",
       "    }\n",
       "\n",
       "    .dataframe thead th {\n",
       "        text-align: right;\n",
       "    }\n",
       "</style>\n",
       "<table border=\"1\" class=\"dataframe\">\n",
       "  <thead>\n",
       "    <tr style=\"text-align: right;\">\n",
       "      <th></th>\n",
       "      <th>regd number</th>\n",
       "      <th>sname</th>\n",
       "      <th>father name</th>\n",
       "      <th>mobile number</th>\n",
       "    </tr>\n",
       "  </thead>\n",
       "  <tbody>\n",
       "    <tr>\n",
       "      <th>REGD NUMBER</th>\n",
       "      <td>y20cs190</td>\n",
       "      <td>saleembasha</td>\n",
       "      <td>subhani</td>\n",
       "      <td>9392714584</td>\n",
       "    </tr>\n",
       "  </tbody>\n",
       "</table>\n",
       "</div>"
      ],
      "text/plain": [
       "            regd number        sname father name mobile number\n",
       "REGD NUMBER    y20cs190  saleembasha     subhani    9392714584"
      ]
     },
     "execution_count": 41,
     "metadata": {},
     "output_type": "execute_result"
    }
   ],
   "source": [
    "sinfo"
   ]
  },
  {
   "cell_type": "code",
   "execution_count": 44,
   "id": "14044bcf",
   "metadata": {},
   "outputs": [
    {
     "data": {
      "text/plain": [
       "Index(['regd number', 'sname', 'father name', 'mobile number'], dtype='object')"
      ]
     },
     "execution_count": 44,
     "metadata": {},
     "output_type": "execute_result"
    }
   ],
   "source": [
    "sinfo.columns"
   ]
  },
  {
   "cell_type": "code",
   "execution_count": 45,
   "id": "63368296",
   "metadata": {},
   "outputs": [],
   "source": [
    "sinfo['sname']='ali'"
   ]
  },
  {
   "cell_type": "code",
   "execution_count": 46,
   "id": "743824f8",
   "metadata": {},
   "outputs": [
    {
     "data": {
      "text/html": [
       "<div>\n",
       "<style scoped>\n",
       "    .dataframe tbody tr th:only-of-type {\n",
       "        vertical-align: middle;\n",
       "    }\n",
       "\n",
       "    .dataframe tbody tr th {\n",
       "        vertical-align: top;\n",
       "    }\n",
       "\n",
       "    .dataframe thead th {\n",
       "        text-align: right;\n",
       "    }\n",
       "</style>\n",
       "<table border=\"1\" class=\"dataframe\">\n",
       "  <thead>\n",
       "    <tr style=\"text-align: right;\">\n",
       "      <th></th>\n",
       "      <th>regd number</th>\n",
       "      <th>sname</th>\n",
       "      <th>father name</th>\n",
       "      <th>mobile number</th>\n",
       "    </tr>\n",
       "  </thead>\n",
       "  <tbody>\n",
       "    <tr>\n",
       "      <th>REGD NUMBER</th>\n",
       "      <td>y20cs190</td>\n",
       "      <td>ali</td>\n",
       "      <td>subhani</td>\n",
       "      <td>9392714584</td>\n",
       "    </tr>\n",
       "  </tbody>\n",
       "</table>\n",
       "</div>"
      ],
      "text/plain": [
       "            regd number sname father name mobile number\n",
       "REGD NUMBER    y20cs190   ali     subhani    9392714584"
      ]
     },
     "execution_count": 46,
     "metadata": {},
     "output_type": "execute_result"
    }
   ],
   "source": [
    "sinfo"
   ]
  },
  {
   "cell_type": "code",
   "execution_count": 51,
   "id": "a4a9996b",
   "metadata": {},
   "outputs": [],
   "source": [
    "sinfo['grade']='A'"
   ]
  },
  {
   "cell_type": "code",
   "execution_count": 52,
   "id": "ea3ce93a",
   "metadata": {},
   "outputs": [
    {
     "data": {
      "text/html": [
       "<div>\n",
       "<style scoped>\n",
       "    .dataframe tbody tr th:only-of-type {\n",
       "        vertical-align: middle;\n",
       "    }\n",
       "\n",
       "    .dataframe tbody tr th {\n",
       "        vertical-align: top;\n",
       "    }\n",
       "\n",
       "    .dataframe thead th {\n",
       "        text-align: right;\n",
       "    }\n",
       "</style>\n",
       "<table border=\"1\" class=\"dataframe\">\n",
       "  <thead>\n",
       "    <tr style=\"text-align: right;\">\n",
       "      <th></th>\n",
       "      <th>regd number</th>\n",
       "      <th>sname</th>\n",
       "      <th>father name</th>\n",
       "      <th>mobile number</th>\n",
       "      <th>present</th>\n",
       "      <th>grade</th>\n",
       "    </tr>\n",
       "  </thead>\n",
       "  <tbody>\n",
       "    <tr>\n",
       "      <th>REGD NUMBER</th>\n",
       "      <td>y20cs190</td>\n",
       "      <td>ali</td>\n",
       "      <td>subhani</td>\n",
       "      <td>9392714584</td>\n",
       "      <td>yes</td>\n",
       "      <td>A</td>\n",
       "    </tr>\n",
       "  </tbody>\n",
       "</table>\n",
       "</div>"
      ],
      "text/plain": [
       "            regd number sname father name mobile number present grade\n",
       "REGD NUMBER    y20cs190   ali     subhani    9392714584     yes     A"
      ]
     },
     "execution_count": 52,
     "metadata": {},
     "output_type": "execute_result"
    }
   ],
   "source": [
    "sinfo"
   ]
  },
  {
   "cell_type": "code",
   "execution_count": 57,
   "id": "115e6e24",
   "metadata": {},
   "outputs": [],
   "source": [
    "d={'name':'saleem','regd no:':'y20cs190'}\n",
    "p=pd.DataFrame(d,index=['name'])"
   ]
  },
  {
   "cell_type": "code",
   "execution_count": 58,
   "id": "6978574a",
   "metadata": {},
   "outputs": [
    {
     "data": {
      "text/html": [
       "<div>\n",
       "<style scoped>\n",
       "    .dataframe tbody tr th:only-of-type {\n",
       "        vertical-align: middle;\n",
       "    }\n",
       "\n",
       "    .dataframe tbody tr th {\n",
       "        vertical-align: top;\n",
       "    }\n",
       "\n",
       "    .dataframe thead th {\n",
       "        text-align: right;\n",
       "    }\n",
       "</style>\n",
       "<table border=\"1\" class=\"dataframe\">\n",
       "  <thead>\n",
       "    <tr style=\"text-align: right;\">\n",
       "      <th></th>\n",
       "      <th>name</th>\n",
       "      <th>regd no:</th>\n",
       "    </tr>\n",
       "  </thead>\n",
       "  <tbody>\n",
       "    <tr>\n",
       "      <th>name</th>\n",
       "      <td>saleem</td>\n",
       "      <td>y20cs190</td>\n",
       "    </tr>\n",
       "  </tbody>\n",
       "</table>\n",
       "</div>"
      ],
      "text/plain": [
       "        name  regd no:\n",
       "name  saleem  y20cs190"
      ]
     },
     "execution_count": 58,
     "metadata": {},
     "output_type": "execute_result"
    }
   ],
   "source": [
    "p"
   ]
  }
 ],
 "metadata": {
  "kernelspec": {
   "display_name": "Python 3 (ipykernel)",
   "language": "python",
   "name": "python3"
  },
  "language_info": {
   "codemirror_mode": {
    "name": "ipython",
    "version": 3
   },
   "file_extension": ".py",
   "mimetype": "text/x-python",
   "name": "python",
   "nbconvert_exporter": "python",
   "pygments_lexer": "ipython3",
   "version": "3.9.7"
  }
 },
 "nbformat": 4,
 "nbformat_minor": 5
}
