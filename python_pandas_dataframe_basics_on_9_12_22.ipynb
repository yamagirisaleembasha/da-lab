{
 "cells": [
  {
   "cell_type": "code",
   "execution_count": 11,
   "id": "da65ba4d",
   "metadata": {},
   "outputs": [
    {
     "name": "stdout",
     "output_type": "stream",
     "text": [
      "    a  b  c\n",
      "i   1  2  3\n",
      "ii  4  5  6\n",
      "   a  b\n",
      "0  1  4\n",
      "1  2  5\n",
      "2  3  6\n",
      "   a  b\n",
      "x  1  4\n",
      "y  2  5\n",
      "z  3  6\n",
      "     a    b\n",
      "0  1.0  NaN\n",
      "1  NaN  2.0\n",
      "              a    b\n",
      "first row   1.0  NaN\n",
      "second row  NaN  2.0\n",
      "            col1  col2\n",
      "first row    NaN   NaN\n",
      "second row   NaN   NaN\n"
     ]
    }
   ],
   "source": [
    "import pandas as pd\n",
    "import numpy as np\n",
    "dll=pd.DataFrame([[1,2,3],[4,5,6]],columns=['a','b','c'],index=['i','ii'])\n",
    "print(dll)\n",
    "ddl=pd.DataFrame({'a':[1,2,3],'b':[4,5,6]})\n",
    "print(ddl)\n",
    "ddl=pd.DataFrame({'a':[1,2,3],'b':[4,5,6]},index=['x','y','z'])\n",
    "print(ddl)\n",
    "dld=pd.DataFrame([{'a':1},{'b':2}])\n",
    "print(dld)\n",
    "dld1=pd.DataFrame([{'a':1},{'b':2}],index=['first row','second row'])\n",
    "print(dld1)\n",
    "dld2=pd.DataFrame([{'a':1},{'b':2}],index=['first row','second row'],columns=['col1','col2'])\n",
    "print(dld2)"
   ]
  },
  {
   "cell_type": "code",
   "execution_count": 21,
   "id": "a2f3112a",
   "metadata": {},
   "outputs": [
    {
     "name": "stdout",
     "output_type": "stream",
     "text": [
      "   0  1  2\n",
      "0  1  2  3\n",
      "1  4  5  6\n",
      "(('saleem', 20), ('basha', 19))\n",
      "('saleem', 'basha')\n",
      "(20, 19)\n",
      "        0   1\n",
      "0  saleem  20\n",
      "1   basha  19\n",
      "Empty DataFrame\n",
      "Columns: []\n",
      "Index: []\n"
     ]
    }
   ],
   "source": [
    "dlt=pd.DataFrame([(1,2,3),(4,5,6)])\n",
    "print(dlt)\n",
    "l=['saleem','basha']\n",
    "age=[20,19]\n",
    "zipped=tuple(zip(l,age))\n",
    "print(zipped)\n",
    "a,b=list(zip(*zipped))\n",
    "print(a)\n",
    "print(b)\n",
    "dzip=pd.DataFrame(zip(l,age))\n",
    "print(dzip)\n",
    "empty=pd.DataFrame()\n",
    "print(empty)"
   ]
  },
  {
   "cell_type": "code",
   "execution_count": 32,
   "id": "c2a54a87",
   "metadata": {},
   "outputs": [
    {
     "name": "stdout",
     "output_type": "stream",
     "text": [
      "   a  b\n",
      "0  3  5\n",
      "1  1  6\n",
      "2  2  4\n",
      "   a  b\n",
      "1  1  6\n",
      "0  3  5\n",
      "2  2  4\n"
     ]
    }
   ],
   "source": [
    "sort_df=pd.DataFrame({'a':[3,1,2],'b':[5,6,4]})\n",
    "print(sort_df)\n",
    "print(sort_df.sort_values(by='b',ascending=False))\n"
   ]
  },
  {
   "cell_type": "code",
   "execution_count": 36,
   "id": "7be45767",
   "metadata": {},
   "outputs": [
    {
     "name": "stdout",
     "output_type": "stream",
     "text": [
      "a    3\n",
      "b    6\n",
      "dtype: int64\n"
     ]
    }
   ],
   "source": [
    "print(sort_df.max())"
   ]
  },
  {
   "cell_type": "code",
   "execution_count": 44,
   "id": "4023003c",
   "metadata": {},
   "outputs": [
    {
     "name": "stdout",
     "output_type": "stream",
     "text": [
      "   a  b\n",
      "0  1  3\n",
      "1  1  3\n",
      "2  2  5\n",
      "[1 2]\n"
     ]
    },
    {
     "data": {
      "text/plain": [
       "2"
      ]
     },
     "execution_count": 44,
     "metadata": {},
     "output_type": "execute_result"
    }
   ],
   "source": [
    "dupli=pd.DataFrame({'a':[1,1,2],'b':[3,3,5]})\n",
    "print(dupli)\n",
    "print(dupli.a.unique())\n",
    "dupli.a.nunique()"
   ]
  },
  {
   "cell_type": "code",
   "execution_count": 47,
   "id": "5f2a24fe",
   "metadata": {},
   "outputs": [
    {
     "name": "stdout",
     "output_type": "stream",
     "text": [
      "   a  b\n",
      "0  1  3\n",
      "1  1  3\n",
      "2  2  5\n",
      "   a  b\n",
      "0  1  3\n",
      "2  2  5\n",
      "   a  b\n",
      "0  1  3\n",
      "1  1  3\n",
      "2  2  5\n"
     ]
    }
   ],
   "source": [
    "print(dupli)\n",
    "print(dupli.drop_duplicates())"
   ]
  },
  {
   "cell_type": "code",
   "execution_count": 55,
   "id": "0eb12265",
   "metadata": {},
   "outputs": [
    {
     "name": "stdout",
     "output_type": "stream",
     "text": [
      "   a  b\n",
      "0  1  3\n",
      "1  1  3\n",
      "2  2  5\n",
      "   A  B\n",
      "0  1  3\n",
      "1  1  3\n",
      "2  2  5\n"
     ]
    }
   ],
   "source": [
    "print(dupli)\n",
    "dupli.rename(columns={'a':'A','b':'B'},inplace=True)\n",
    "print(dupli)"
   ]
  },
  {
   "cell_type": "code",
   "execution_count": 73,
   "id": "de586319",
   "metadata": {},
   "outputs": [
    {
     "name": "stdout",
     "output_type": "stream",
     "text": [
      "   a  b\n",
      "0  1  3\n",
      "1  1  3\n",
      "2  2  5\n"
     ]
    },
    {
     "data": {
      "text/html": [
       "<div>\n",
       "<style scoped>\n",
       "    .dataframe tbody tr th:only-of-type {\n",
       "        vertical-align: middle;\n",
       "    }\n",
       "\n",
       "    .dataframe tbody tr th {\n",
       "        vertical-align: top;\n",
       "    }\n",
       "\n",
       "    .dataframe thead th {\n",
       "        text-align: right;\n",
       "    }\n",
       "</style>\n",
       "<table border=\"1\" class=\"dataframe\">\n",
       "  <thead>\n",
       "    <tr style=\"text-align: right;\">\n",
       "      <th></th>\n",
       "      <th>a</th>\n",
       "      <th>b</th>\n",
       "    </tr>\n",
       "  </thead>\n",
       "  <tbody>\n",
       "    <tr>\n",
       "      <th>0</th>\n",
       "      <td>1.0</td>\n",
       "      <td>NaN</td>\n",
       "    </tr>\n",
       "    <tr>\n",
       "      <th>1</th>\n",
       "      <td>1.0</td>\n",
       "      <td>NaN</td>\n",
       "    </tr>\n",
       "    <tr>\n",
       "      <th>2</th>\n",
       "      <td>NaN</td>\n",
       "      <td>NaN</td>\n",
       "    </tr>\n",
       "  </tbody>\n",
       "</table>\n",
       "</div>"
      ],
      "text/plain": [
       "     a   b\n",
       "0  1.0 NaN\n",
       "1  1.0 NaN\n",
       "2  NaN NaN"
      ]
     },
     "execution_count": 73,
     "metadata": {},
     "output_type": "execute_result"
    }
   ],
   "source": [
    "print(dupli)\n",
    "dupli.where(dupli==1)"
   ]
  },
  {
   "cell_type": "code",
   "execution_count": 77,
   "id": "1385e28a",
   "metadata": {},
   "outputs": [
    {
     "name": "stdout",
     "output_type": "stream",
     "text": [
      "   a  b\n",
      "0  1  3\n",
      "2  2  5\n",
      "   a  b\n",
      "0  1  3\n",
      "1  1  3\n",
      "2  2  5\n"
     ]
    }
   ],
   "source": [
    "print(dupli.drop([1],inplace=False))\n",
    "print(dupli)"
   ]
  },
  {
   "cell_type": "code",
   "execution_count": 78,
   "id": "6812b937",
   "metadata": {},
   "outputs": [
    {
     "data": {
      "text/html": [
       "<div>\n",
       "<style scoped>\n",
       "    .dataframe tbody tr th:only-of-type {\n",
       "        vertical-align: middle;\n",
       "    }\n",
       "\n",
       "    .dataframe tbody tr th {\n",
       "        vertical-align: top;\n",
       "    }\n",
       "\n",
       "    .dataframe thead th {\n",
       "        text-align: right;\n",
       "    }\n",
       "</style>\n",
       "<table border=\"1\" class=\"dataframe\">\n",
       "  <thead>\n",
       "    <tr style=\"text-align: right;\">\n",
       "      <th></th>\n",
       "      <th>b</th>\n",
       "    </tr>\n",
       "  </thead>\n",
       "  <tbody>\n",
       "    <tr>\n",
       "      <th>0</th>\n",
       "      <td>3</td>\n",
       "    </tr>\n",
       "    <tr>\n",
       "      <th>1</th>\n",
       "      <td>3</td>\n",
       "    </tr>\n",
       "    <tr>\n",
       "      <th>2</th>\n",
       "      <td>5</td>\n",
       "    </tr>\n",
       "  </tbody>\n",
       "</table>\n",
       "</div>"
      ],
      "text/plain": [
       "   b\n",
       "0  3\n",
       "1  3\n",
       "2  5"
      ]
     },
     "execution_count": 78,
     "metadata": {},
     "output_type": "execute_result"
    }
   ],
   "source": [
    "dupli.drop('a',axis=1)"
   ]
  },
  {
   "cell_type": "code",
   "execution_count": 79,
   "id": "d8df3f71",
   "metadata": {},
   "outputs": [
    {
     "name": "stdout",
     "output_type": "stream",
     "text": [
      "   a  b\n",
      "0  1  3\n",
      "1  1  3\n",
      "2  2  5\n"
     ]
    }
   ],
   "source": [
    "print(dupli)"
   ]
  },
  {
   "cell_type": "code",
   "execution_count": 80,
   "id": "41d17708",
   "metadata": {},
   "outputs": [
    {
     "data": {
      "text/html": [
       "<div>\n",
       "<style scoped>\n",
       "    .dataframe tbody tr th:only-of-type {\n",
       "        vertical-align: middle;\n",
       "    }\n",
       "\n",
       "    .dataframe tbody tr th {\n",
       "        vertical-align: top;\n",
       "    }\n",
       "\n",
       "    .dataframe thead th {\n",
       "        text-align: right;\n",
       "    }\n",
       "</style>\n",
       "<table border=\"1\" class=\"dataframe\">\n",
       "  <thead>\n",
       "    <tr style=\"text-align: right;\">\n",
       "      <th></th>\n",
       "      <th>one</th>\n",
       "      <th>three</th>\n",
       "    </tr>\n",
       "  </thead>\n",
       "  <tbody>\n",
       "    <tr>\n",
       "      <th>tiger</th>\n",
       "      <td>2</td>\n",
       "      <td>4</td>\n",
       "    </tr>\n",
       "    <tr>\n",
       "      <th>lion</th>\n",
       "      <td>5</td>\n",
       "      <td>7</td>\n",
       "    </tr>\n",
       "  </tbody>\n",
       "</table>\n",
       "</div>"
      ],
      "text/plain": [
       "       one  three\n",
       "tiger    2      4\n",
       "lion     5      7"
      ]
     },
     "execution_count": 80,
     "metadata": {},
     "output_type": "execute_result"
    }
   ],
   "source": [
    "df = pd.DataFrame(np.array(([2, 3, 4], [5, 6, 7])),\n",
    "                  index=['tiger', 'lion'],\n",
    "                  columns=['one', 'two', 'three'])\n",
    "df.filter(items=['one', 'three'])\n"
   ]
  },
  {
   "cell_type": "code",
   "execution_count": 81,
   "id": "df04626c",
   "metadata": {},
   "outputs": [
    {
     "data": {
      "text/html": [
       "<div>\n",
       "<style scoped>\n",
       "    .dataframe tbody tr th:only-of-type {\n",
       "        vertical-align: middle;\n",
       "    }\n",
       "\n",
       "    .dataframe tbody tr th {\n",
       "        vertical-align: top;\n",
       "    }\n",
       "\n",
       "    .dataframe thead th {\n",
       "        text-align: right;\n",
       "    }\n",
       "</style>\n",
       "<table border=\"1\" class=\"dataframe\">\n",
       "  <thead>\n",
       "    <tr style=\"text-align: right;\">\n",
       "      <th></th>\n",
       "      <th>one</th>\n",
       "      <th>three</th>\n",
       "    </tr>\n",
       "  </thead>\n",
       "  <tbody>\n",
       "    <tr>\n",
       "      <th>tiger</th>\n",
       "      <td>2</td>\n",
       "      <td>4</td>\n",
       "    </tr>\n",
       "    <tr>\n",
       "      <th>lion</th>\n",
       "      <td>5</td>\n",
       "      <td>7</td>\n",
       "    </tr>\n",
       "  </tbody>\n",
       "</table>\n",
       "</div>"
      ],
      "text/plain": [
       "       one  three\n",
       "tiger    2      4\n",
       "lion     5      7"
      ]
     },
     "execution_count": 81,
     "metadata": {},
     "output_type": "execute_result"
    }
   ],
   "source": [
    "df.filter(regex='e$', axis=1)"
   ]
  },
  {
   "cell_type": "code",
   "execution_count": 82,
   "id": "1c612771",
   "metadata": {},
   "outputs": [
    {
     "data": {
      "text/html": [
       "<div>\n",
       "<style scoped>\n",
       "    .dataframe tbody tr th:only-of-type {\n",
       "        vertical-align: middle;\n",
       "    }\n",
       "\n",
       "    .dataframe tbody tr th {\n",
       "        vertical-align: top;\n",
       "    }\n",
       "\n",
       "    .dataframe thead th {\n",
       "        text-align: right;\n",
       "    }\n",
       "</style>\n",
       "<table border=\"1\" class=\"dataframe\">\n",
       "  <thead>\n",
       "    <tr style=\"text-align: right;\">\n",
       "      <th></th>\n",
       "      <th>one</th>\n",
       "      <th>two</th>\n",
       "      <th>three</th>\n",
       "    </tr>\n",
       "  </thead>\n",
       "  <tbody>\n",
       "    <tr>\n",
       "      <th>lion</th>\n",
       "      <td>5</td>\n",
       "      <td>6</td>\n",
       "      <td>7</td>\n",
       "    </tr>\n",
       "  </tbody>\n",
       "</table>\n",
       "</div>"
      ],
      "text/plain": [
       "      one  two  three\n",
       "lion    5    6      7"
      ]
     },
     "execution_count": 82,
     "metadata": {},
     "output_type": "execute_result"
    }
   ],
   "source": [
    "df.filter(like='ion', axis=0)"
   ]
  },
  {
   "cell_type": "code",
   "execution_count": 86,
   "id": "302c6958",
   "metadata": {},
   "outputs": [
    {
     "data": {
      "text/plain": [
       "0       NaN\n",
       "1       NaN\n",
       "2       NaN\n",
       "3       NaN\n",
       "4     18.34\n",
       "5     18.04\n",
       "6     17.52\n",
       "7     17.42\n",
       "8     18.48\n",
       "9     18.82\n",
       "10    18.88\n",
       "11    19.12\n",
       "12    19.50\n",
       "13    19.66\n",
       "14    19.98\n",
       "15    20.66\n",
       "16    21.14\n",
       "Name: sales, dtype: float64"
      ]
     },
     "execution_count": 86,
     "metadata": {},
     "output_type": "execute_result"
    }
   ],
   "source": [
    "moving_averages=pd.DataFrame({'year':[1966,1967,1968,1969,1970,1971,1972,1973,1974,1975,1976,1977,1978,1979,1980,1981,1982],'sales':[19.3,20.9,17.8,16.1,17.6,17.8,18.3,17.3,21.4,19.3,18.1,19.5,19.2,22.2,20.9,21.5,21.9]})\n",
    "moving_averages['sales'].rolling(5).mean()"
   ]
  },
  {
   "cell_type": "code",
   "execution_count": 87,
   "id": "855ff63c",
   "metadata": {},
   "outputs": [
    {
     "name": "stdout",
     "output_type": "stream",
     "text": [
      "    Column 1  Column 2\n",
      "0      200.0        20\n",
      "1       -4.0        30\n",
      "2       90.0        23\n",
      "3       13.9        45\n",
      "4        5.0        19\n",
      "5      -90.0        38\n",
      "6       20.0        25\n",
      "7      300.7        45\n",
      "8       30.0        34\n",
      "9     -200.0        37\n",
      "10     400.0        12\n"
     ]
    },
    {
     "data": {
      "text/html": [
       "<div>\n",
       "<style scoped>\n",
       "    .dataframe tbody tr th:only-of-type {\n",
       "        vertical-align: middle;\n",
       "    }\n",
       "\n",
       "    .dataframe tbody tr th {\n",
       "        vertical-align: top;\n",
       "    }\n",
       "\n",
       "    .dataframe thead th {\n",
       "        text-align: right;\n",
       "    }\n",
       "</style>\n",
       "<table border=\"1\" class=\"dataframe\">\n",
       "  <thead>\n",
       "    <tr style=\"text-align: right;\">\n",
       "      <th></th>\n",
       "      <th>Column 1</th>\n",
       "      <th>Column 2</th>\n",
       "    </tr>\n",
       "  </thead>\n",
       "  <tbody>\n",
       "    <tr>\n",
       "      <th>0</th>\n",
       "      <td>0.50000</td>\n",
       "      <td>20</td>\n",
       "    </tr>\n",
       "    <tr>\n",
       "      <th>1</th>\n",
       "      <td>-0.01000</td>\n",
       "      <td>30</td>\n",
       "    </tr>\n",
       "    <tr>\n",
       "      <th>2</th>\n",
       "      <td>0.22500</td>\n",
       "      <td>23</td>\n",
       "    </tr>\n",
       "    <tr>\n",
       "      <th>3</th>\n",
       "      <td>0.03475</td>\n",
       "      <td>45</td>\n",
       "    </tr>\n",
       "    <tr>\n",
       "      <th>4</th>\n",
       "      <td>0.01250</td>\n",
       "      <td>19</td>\n",
       "    </tr>\n",
       "    <tr>\n",
       "      <th>5</th>\n",
       "      <td>-0.22500</td>\n",
       "      <td>38</td>\n",
       "    </tr>\n",
       "    <tr>\n",
       "      <th>6</th>\n",
       "      <td>0.05000</td>\n",
       "      <td>25</td>\n",
       "    </tr>\n",
       "    <tr>\n",
       "      <th>7</th>\n",
       "      <td>0.75175</td>\n",
       "      <td>45</td>\n",
       "    </tr>\n",
       "    <tr>\n",
       "      <th>8</th>\n",
       "      <td>0.07500</td>\n",
       "      <td>34</td>\n",
       "    </tr>\n",
       "    <tr>\n",
       "      <th>9</th>\n",
       "      <td>-0.50000</td>\n",
       "      <td>37</td>\n",
       "    </tr>\n",
       "    <tr>\n",
       "      <th>10</th>\n",
       "      <td>1.00000</td>\n",
       "      <td>12</td>\n",
       "    </tr>\n",
       "  </tbody>\n",
       "</table>\n",
       "</div>"
      ],
      "text/plain": [
       "    Column 1  Column 2\n",
       "0    0.50000        20\n",
       "1   -0.01000        30\n",
       "2    0.22500        23\n",
       "3    0.03475        45\n",
       "4    0.01250        19\n",
       "5   -0.22500        38\n",
       "6    0.05000        25\n",
       "7    0.75175        45\n",
       "8    0.07500        34\n",
       "9   -0.50000        37\n",
       "10   1.00000        12"
      ]
     },
     "metadata": {},
     "output_type": "display_data"
    }
   ],
   "source": [
    "normal = pd.DataFrame({'Column 1':[200,-4,90,13.9,5,\n",
    "                               -90,20,300.7,30,-200,400],\n",
    "                     \n",
    "                   'Column 2':[20,30,23,45,19,38,\n",
    "                               25,45,34,37,12]})\n",
    "print(normal)\n",
    "normal['Column 1'] = normal['Column 1'] /normal['Column 1'].abs().max()\n",
    "display(normal)"
   ]
  },
  {
   "cell_type": "code",
   "execution_count": 98,
   "id": "c657ff04",
   "metadata": {},
   "outputs": [
    {
     "name": "stdout",
     "output_type": "stream",
     "text": [
      "    Column 1  Column 2  Column 3\n",
      "0    0.50000        20         0\n",
      "1   -0.01000        30         1\n",
      "2    0.22500        23         2\n",
      "3    0.03475        45         3\n",
      "4    0.01250        19         4\n",
      "5   -0.22500        38         5\n",
      "6    0.05000        25         6\n",
      "7    0.75175        45         7\n",
      "8    0.07500        34         8\n",
      "9   -0.50000        37         9\n",
      "10   1.00000        12        10\n",
      "11  10.00000        87        92\n",
      "12  10.00000        87        92\n",
      "    Column 1  Column 2  Column 3\n",
      "0    0.50000        20         0\n",
      "1   -0.01000        30         1\n",
      "2    0.22500        23         2\n",
      "3    0.03475        45         3\n",
      "4    0.01250        19         4\n",
      "5   -0.22500        38         5\n",
      "6    0.05000        25         6\n",
      "7    0.75175        45         7\n",
      "8    0.07500        34         8\n",
      "9   -0.50000        37         9\n",
      "10   1.00000        12        10\n",
      "11  10.00000        87        11\n",
      "12  10.00000        87        12\n"
     ]
    }
   ],
   "source": [
    "print(normal)\n",
    "normal['Column 3']=list(np.arange(13))\n",
    "print(normal)"
   ]
  },
  {
   "cell_type": "code",
   "execution_count": 101,
   "id": "16c52bd0",
   "metadata": {},
   "outputs": [
    {
     "name": "stdout",
     "output_type": "stream",
     "text": [
      "     Animal  Number_legs\n",
      "0       fox          4.0\n",
      "1  Kangaroo          2.0\n",
      "2      deer          4.0\n",
      "3    spider          8.0\n",
      "4     snake          NaN\n",
      "     Animal  Number_legs  ascending ranks\n",
      "0       fox          4.0              2.5\n",
      "1  Kangaroo          2.0              1.0\n",
      "2      deer          4.0              2.5\n",
      "3    spider          8.0              4.0\n",
      "4     snake          NaN              NaN\n",
      "     Animal  Number_legs  ascending ranks  descending ranks\n",
      "0       fox          4.0              2.5               2.5\n",
      "1  Kangaroo          2.0              1.0               4.0\n",
      "2      deer          4.0              2.5               2.5\n",
      "3    spider          8.0              4.0               1.0\n",
      "4     snake          NaN              NaN               NaN\n"
     ]
    }
   ],
   "source": [
    "ranks= pd.DataFrame(data={'Animal': ['fox', 'Kangaroo', 'deer',\n",
    "                                   'spider', 'snake'],\n",
    "                        'Number_legs': [4, 2, 4, 8, np.nan]})\n",
    "print(ranks)\n",
    "ranks['ascending ranks']=ranks['Number_legs'].rank()\n",
    "print(ranks)\n",
    "ranks['descending ranks']=ranks['Number_legs'].rank(ascending=False)\n",
    "print(ranks)"
   ]
  },
  {
   "cell_type": "code",
   "execution_count": 99,
   "id": "19e86957",
   "metadata": {},
   "outputs": [
    {
     "name": "stdout",
     "output_type": "stream",
     "text": [
      "    Column 1  Column 2  Column 3\n",
      "0    0.50000        20         0\n",
      "1   -0.01000        30         1\n",
      "2    0.22500        23         2\n",
      "3    0.03475        45         3\n",
      "4    0.01250        19         4\n",
      "5   -0.22500        38         5\n",
      "6    0.05000        25         6\n",
      "7    0.75175        45         7\n",
      "8    0.07500        34         8\n",
      "9   -0.50000        37         9\n",
      "10   1.00000        12        10\n",
      "11  10.00000        87        11\n",
      "12  10.00000        87        12\n",
      "13  10.00000        87        92\n"
     ]
    },
    {
     "name": "stderr",
     "output_type": "stream",
     "text": [
      "C:\\Users\\sbash\\AppData\\Local\\Temp\\ipykernel_17596\\3628505712.py:2: FutureWarning: The frame.append method is deprecated and will be removed from pandas in a future version. Use pandas.concat instead.\n",
      "  normal = normal.append(new_row, ignore_index=True)\n"
     ]
    }
   ],
   "source": [
    "new_row = {'Column 1':10, 'Column 2':87, 'Column 3':92}#append row to the dataframe\n",
    "normal = normal.append(new_row, ignore_index=True)\n",
    "print(normal)"
   ]
  }
 ],
 "metadata": {
  "kernelspec": {
   "display_name": "Python 3 (ipykernel)",
   "language": "python",
   "name": "python3"
  },
  "language_info": {
   "codemirror_mode": {
    "name": "ipython",
    "version": 3
   },
   "file_extension": ".py",
   "mimetype": "text/x-python",
   "name": "python",
   "nbconvert_exporter": "python",
   "pygments_lexer": "ipython3",
   "version": "3.9.12"
  }
 },
 "nbformat": 4,
 "nbformat_minor": 5
}
